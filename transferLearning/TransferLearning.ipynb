{
  "nbformat": 4,
  "nbformat_minor": 0,
  "metadata": {
    "colab": {
      "name": "Comp1.ipynb",
      "provenance": []
    },
    "kernelspec": {
      "name": "python3",
      "display_name": "Python 3"
    },
    "accelerator": "GPU"
  },
  "cells": [
    {
      "cell_type": "code",
      "metadata": {
        "id": "r1swx49GGM_G",
        "colab_type": "code",
        "colab": {}
      },
      "source": [
        "#importing necessary libraries\n",
        "\n",
        "import os\n",
        "import tensorflow as tf\n",
        "import numpy\n",
        "import matplotlib.pylab as plt\n",
        "from __future__ import absolute_import, division, print_function, unicode_literals\n",
        "\n",
        "try:\n",
        "  %tensorflow_version 2.x\n",
        "except Exception:\n",
        "  pass\n"
      ],
      "execution_count": null,
      "outputs": []
    },
    {
      "cell_type": "code",
      "metadata": {
        "id": "PniJKKTdGg2e",
        "colab_type": "code",
        "colab": {
          "base_uri": "https://localhost:8080/",
          "height": 71
        },
        "outputId": "d3457eb5-b2f4-468c-e9f9-c0baf6205f2f"
      },
      "source": [
        "#downloading and extracting fruit 360 dataset from Kaggle\n",
        "\n",
        "dataset = tf.keras.utils.get_file(origin=\"https://storage.googleapis.com/kaggle-data-sets/5857%2F1166105%2Fbundle%2Farchive.zip?GoogleAccessId=gcp-kaggle-com@kaggle-161607.iam.gserviceaccount.com&Expires=1598630842&Signature=VrU3W%2B%2BFkVEJx7JTSPicNc8sTnkGzlaiu4lBkgMnxYnpPUnVFzLaOI7ai2NES9GrV9n1ZVtMMw2Xku1fLtGwLwhLFDSMOk8iwFI%2Foagl9a1YDIdVJIbBWUxrJn6DdDccrb50oIFzoHFWwK0jzmqacg0CCy4EboLRY6YPmOwNCwoiXZ04CsRlQrdqON1kq4pa8Bvg%2FHD5xx0ZvDjrQWLyY1e%2B0eVxX%2Bk9L7gPxdsnCEceQAXWhDez%2BmHJDcqtdxKvFNvEkQyhw9Vm%2FEWdXRZVLD7fuK0FQCn0zXymapZHjJqvK9EHyhzjiO96yx1ggZnTwwbb3A7NCjHRfeZRSjQSsQ%3D%3D\",\n",
        "                                   fname=\"fruits-360.zip\", extract=True)\n",
        "\n",
        "\n",
        "#setting the base directory which will be used to get the file contents\n",
        "base_dir, _ = os.path.splitext(dataset)"
      ],
      "execution_count": null,
      "outputs": [
        {
          "output_type": "stream",
          "text": [
            "Downloading data from https://storage.googleapis.com/kaggle-data-sets/5857%2F1166105%2Fbundle%2Farchive.zip?GoogleAccessId=gcp-kaggle-com@kaggle-161607.iam.gserviceaccount.com&Expires=1598630842&Signature=VrU3W%2B%2BFkVEJx7JTSPicNc8sTnkGzlaiu4lBkgMnxYnpPUnVFzLaOI7ai2NES9GrV9n1ZVtMMw2Xku1fLtGwLwhLFDSMOk8iwFI%2Foagl9a1YDIdVJIbBWUxrJn6DdDccrb50oIFzoHFWwK0jzmqacg0CCy4EboLRY6YPmOwNCwoiXZ04CsRlQrdqON1kq4pa8Bvg%2FHD5xx0ZvDjrQWLyY1e%2B0eVxX%2Bk9L7gPxdsnCEceQAXWhDez%2BmHJDcqtdxKvFNvEkQyhw9Vm%2FEWdXRZVLD7fuK0FQCn0zXymapZHjJqvK9EHyhzjiO96yx1ggZnTwwbb3A7NCjHRfeZRSjQSsQ%3D%3D\n",
            "796745728/796742678 [==============================] - 15s 0us/step\n"
          ],
          "name": "stdout"
        }
      ]
    },
    {
      "cell_type": "code",
      "metadata": {
        "id": "6PocKgJ6Gkh6",
        "colab_type": "code",
        "colab": {
          "base_uri": "https://localhost:8080/",
          "height": 34
        },
        "outputId": "020a20f5-dd6f-4506-c282-828cb8164afc"
      },
      "source": [
        "training_directory = os.path.join(base_dir, 'Training')\n",
        "validation_directory = os.path.join(base_dir, 'Test')\n",
        "\n",
        "\n",
        "#as dataset image size is 100X100 pixels, fetching model which accepts input size of upto 128 pixels\n",
        "image_size = 128\n",
        "batch_size = 32\n",
        "\n",
        "\n",
        "\n",
        "#data augmentation of training dataset\n",
        "train_datagen = tf.keras.preprocessing.image.ImageDataGenerator()\n",
        "\n",
        "training_generator = train_datagen.flow_from_directory(directory=training_directory, target_size=(image_size, image_size), batch_size=batch_size)"
      ],
      "execution_count": null,
      "outputs": [
        {
          "output_type": "stream",
          "text": [
            "Found 67692 images belonging to 131 classes.\n"
          ],
          "name": "stdout"
        }
      ]
    },
    {
      "cell_type": "code",
      "metadata": {
        "id": "EXlPB6v1GklQ",
        "colab_type": "code",
        "colab": {
          "base_uri": "https://localhost:8080/",
          "height": 88
        },
        "outputId": "47192aef-0b8a-4587-f0ff-781dba3f6962"
      },
      "source": [
        "\n",
        "#data augmentation of validation dataset\n",
        "validation_datagen = tf.keras.preprocessing.image.ImageDataGenerator()\n",
        "\n",
        "validation_generator = validation_datagen.flow_from_directory(directory=validation_directory, target_size=(image_size, image_size), batch_size=batch_size)\n",
        "\n",
        "IMG_SHAPE = (image_size, image_size, 3)\n",
        "\n",
        "\n",
        "#importing model from Keras\n",
        "base_model = tf.keras.applications.MobileNet(input_shape=IMG_SHAPE, include_top=False)\n",
        "base_model.trainable = False"
      ],
      "execution_count": null,
      "outputs": [
        {
          "output_type": "stream",
          "text": [
            "Found 22688 images belonging to 131 classes.\n",
            "Downloading data from https://storage.googleapis.com/tensorflow/keras-applications/mobilenet/mobilenet_1_0_128_tf_no_top.h5\n",
            "17227776/17225924 [==============================] - 0s 0us/step\n"
          ],
          "name": "stdout"
        }
      ]
    },
    {
      "cell_type": "code",
      "metadata": {
        "id": "_B219mgUGkrq",
        "colab_type": "code",
        "colab": {
          "base_uri": "https://localhost:8080/",
          "height": 255
        },
        "outputId": "4659f2eb-6d99-46f3-86f6-84506a9a93e7"
      },
      "source": [
        "#adding Fully connected layers for model\n",
        "model_new = tf.keras.Sequential([\n",
        "  base_model,\n",
        "  tf.keras.layers.GlobalAveragePooling2D(),\n",
        "  tf.keras.layers.Dense(131, activation='sigmoid')\n",
        "])\n",
        "model_new.summary()"
      ],
      "execution_count": null,
      "outputs": [
        {
          "output_type": "stream",
          "text": [
            "Model: \"sequential_1\"\n",
            "_________________________________________________________________\n",
            "Layer (type)                 Output Shape              Param #   \n",
            "=================================================================\n",
            "mobilenet_1.00_128 (Function (None, 4, 4, 1024)        3228864   \n",
            "_________________________________________________________________\n",
            "global_average_pooling2d_1 ( (None, 1024)              0         \n",
            "_________________________________________________________________\n",
            "dense_1 (Dense)              (None, 131)               134275    \n",
            "=================================================================\n",
            "Total params: 3,363,139\n",
            "Trainable params: 134,275\n",
            "Non-trainable params: 3,228,864\n",
            "_________________________________________________________________\n"
          ],
          "name": "stdout"
        }
      ]
    },
    {
      "cell_type": "code",
      "metadata": {
        "id": "v_LCU2mmGkut",
        "colab_type": "code",
        "colab": {}
      },
      "source": [
        "\n",
        "#compiling model with Adam optimizer\n",
        "model_new.compile(optimizer=tf.keras.optimizers.Adam(),\n",
        "              loss='categorical_crossentropy',\n",
        "              metrics=['accuracy'])\n",
        "epochs = 25\n",
        "\n",
        "#uncomment to compile with RMS prop optimizer\n",
        "# model_new.compile(optimizer=tf.keras.optimizers.RMSprop(lr=0.0001),\n",
        "#  loss='binary_crossentropy',\n",
        "#  metrics=['accuracy'])\n",
        "\n",
        "\n",
        "\n",
        "steps_per_epoch = numpy.ceil(training_generator.n / batch_size)\n",
        "validation_steps = numpy.ceil(validation_generator.n / batch_size)"
      ],
      "execution_count": null,
      "outputs": []
    },
    {
      "cell_type": "code",
      "metadata": {
        "id": "8N3ZATAfGk1J",
        "colab_type": "code",
        "colab": {
          "base_uri": "https://localhost:8080/",
          "height": 54
        },
        "outputId": "a6bb5b0f-53e0-49a3-9cb7-bcbaea6991a9"
      },
      "source": [
        "\n",
        "\"\"\"\n",
        "training the model with 25 epochs\n",
        "storing the model data as a history object\n",
        "used for plotting graphs\n",
        "\"\"\"\n",
        "model_data = model_new.fit(x=training_generator,\n",
        "                              steps_per_epoch = steps_per_epoch,\n",
        "                              epochs=epochs,\n",
        "                              validation_data=validation_generator,\n",
        "                              validation_steps=validation_steps).history"
      ],
      "execution_count": null,
      "outputs": [
        {
          "output_type": "stream",
          "text": [
            "2116/2116 [==============================] - 76s 36ms/step - loss: 0.4301 - accuracy: 0.9265 - val_loss: 0.3259 - val_accuracy: 0.9222\n"
          ],
          "name": "stdout"
        }
      ]
    },
    {
      "cell_type": "code",
      "metadata": {
        "id": "WZiXU9eUgbxV",
        "colab_type": "code",
        "colab": {
          "base_uri": "https://localhost:8080/",
          "height": 54
        },
        "outputId": "16aa3405-0c46-435f-a557-0657e60e4d37"
      },
      "source": [
        ""
      ],
      "execution_count": null,
      "outputs": [
        {
          "output_type": "stream",
          "text": [
            "hist {'loss': [0.43007925152778625], 'accuracy': [0.9264905452728271], 'val_loss': [0.32588550448417664], 'val_accuracy': [0.9221615195274353]}\n"
          ],
          "name": "stdout"
        }
      ]
    },
    {
      "cell_type": "code",
      "metadata": {
        "id": "W1vw0S-eGkye",
        "colab_type": "code",
        "colab": {
          "base_uri": "https://localhost:8080/",
          "height": 308
        },
        "outputId": "0ef48e6a-39f6-4dfe-8d3c-34bb26538384"
      },
      "source": [
        "\n",
        "#plotting graphs for model accuracy and loss values\n",
        "f, (ax1, ax2) = plt.subplots(1, 2, figsize=(12, 4))\n",
        "t = f.suptitle('Performance with Adam optimizer and categorical_crossentropy loss', fontsize=12)\n",
        "f.subplots_adjust(top=0.85, wspace=0.3)\n",
        "\n",
        "epoch_list = list(range(0,25))\n",
        "ax1.plot(epoch_list, model_data[\"accuracy\"], label='Train Accuracy')\n",
        "ax1.plot(epoch_list, model_data[\"val_accuracy\"], label='Validation Accuracy')\n",
        "ax1.set_xticks(numpy.arange(0, 25, 2))\n",
        "ax1.set_ylabel('Accuracy Value')\n",
        "ax1.set_xlabel('Epoch')\n",
        "ax1.set_title('Accuracy')\n",
        "l1 = ax1.legend(loc=\"best\")\n",
        "\n",
        "ax2.plot(epoch_list, model_data['loss'], label='Train Loss')\n",
        "ax2.plot(epoch_list, model_data['val_loss'], label='Validation Loss')\n",
        "ax2.set_xticks(numpy.arange(0, 25, 2))\n",
        "ax2.set_ylabel('Loss Value')\n",
        "ax2.set_xlabel('Epoch')\n",
        "ax2.set_title('Loss')\n",
        "l2 = ax2.legend(loc=\"best\")"
      ],
      "execution_count": null,
      "outputs": [
        {
          "output_type": "display_data",
          "data": {
            "image/png": "[encoded data removed]",
            "text/plain": [
              "<Figure size 864x288 with 2 Axes>"
            ]
          },
          "metadata": {
            "tags": [],
            "needs_background": "light"
          }
        }
      ]
    },
    {
      "cell_type": "code",
      "metadata": {
        "id": "yf4GJc3zXdGZ",
        "colab_type": "code",
        "colab": {}
      },
      "source": [
        ""
      ],
      "execution_count": null,
      "outputs": []
    },
    {
      "cell_type": "code",
      "metadata": {
        "id": "i6rkgb3_aTQt",
        "colab_type": "code",
        "colab": {
          "base_uri": "https://localhost:8080/",
          "height": 156
        },
        "outputId": "f8e30deb-7fda-432d-add5-de8a3d6928bd"
      },
      "source": [
        "#converting model to TFlite so that it can be easily integrated with the application\n",
        "saved_model_dir = '/content/TfliteModel'\n",
        "tf.saved_model.save(model_new, saved_model_dir)\n",
        "converter = tf.lite.TFLiteConverter.from_saved_model(saved_model_dir)\n",
        "tflite_model = converter.convert()\n",
        "with open('finalModel.tflite', 'wb') as f:\n",
        "    f.write(tflite_model)"
      ],
      "execution_count": null,
      "outputs": [
        {
          "output_type": "stream",
          "text": [
            "WARNING:tensorflow:From /usr/local/lib/python3.6/dist-packages/tensorflow/python/training/tracking/tracking.py:111: Model.state_updates (from tensorflow.python.keras.engine.training) is deprecated and will be removed in a future version.\n",
            "Instructions for updating:\n",
            "This property should not be used in TensorFlow 2.0, as updates are applied automatically.\n",
            "WARNING:tensorflow:From /usr/local/lib/python3.6/dist-packages/tensorflow/python/training/tracking/tracking.py:111: Layer.updates (from tensorflow.python.keras.engine.base_layer) is deprecated and will be removed in a future version.\n",
            "Instructions for updating:\n",
            "This property should not be used in TensorFlow 2.0, as updates are applied automatically.\n",
            "INFO:tensorflow:Assets written to: /content/TFLite/assets\n"
          ],
          "name": "stdout"
        }
      ]
    },
    {
      "cell_type": "code",
      "metadata": {
        "id": "XRNqyvaZfF4i",
        "colab_type": "code",
        "colab": {
          "base_uri": "https://localhost:8080/",
          "height": 255
        },
        "outputId": "c386ad37-17f1-4c66-9c41-a1890dd4d9bc"
      },
      "source": [
        "model_new.summary()"
      ],
      "execution_count": null,
      "outputs": [
        {
          "output_type": "stream",
          "text": [
            "Model: \"sequential_1\"\n",
            "_________________________________________________________________\n",
            "Layer (type)                 Output Shape              Param #   \n",
            "=================================================================\n",
            "mobilenet_1.00_128 (Function (None, 4, 4, 1024)        3228864   \n",
            "_________________________________________________________________\n",
            "global_average_pooling2d_1 ( (None, 1024)              0         \n",
            "_________________________________________________________________\n",
            "dense_1 (Dense)              (None, 131)               134275    \n",
            "=================================================================\n",
            "Total params: 3,363,139\n",
            "Trainable params: 134,275\n",
            "Non-trainable params: 3,228,864\n",
            "_________________________________________________________________\n"
          ],
          "name": "stdout"
        }
      ]
    },
    {
      "cell_type": "code",
      "metadata": {
        "id": "cx0c2lc8aTJp",
        "colab_type": "code",
        "colab": {}
      },
      "source": [
        "#making a txt file of the class names from the training genrator\n",
        "labels = '\\n'.join(sorted(training_generator.class_indices.keys()))\n",
        "with open('ModelLabels.txt', 'w') as f:\n",
        "    f.write(labels)"
      ],
      "execution_count": null,
      "outputs": []
    }
  ]
}